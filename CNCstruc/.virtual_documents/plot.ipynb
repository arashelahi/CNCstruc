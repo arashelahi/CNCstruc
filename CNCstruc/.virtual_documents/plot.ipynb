import io
import os
import pandas as pd
import seaborn as sns
import matplotlib.pyplot as plt
import traj_reader as trj

def read_xvg(fpath, extra_label=""):
    read_str = None
    with io.open(fpath, "r", newline="\n") as rf:
        read_str = rf.read()
    _, x_label_str, rest_of_file = read_str.split("label")
    x_label = x_label_str.split("\n@")[0].strip().replace("\"", "")
    _, y1_label_str, rest_of_file = rest_of_file.split("@ s")
    y1_label = y1_label_str.split("\"")[1]
    _, y2_label, data_str = rest_of_file.split("\"")
    y1_label = y1_label.replace("Hydrogen bonds", "hb")
    if extra_label == "":
        df = pd.read_csv(io.StringIO(data_str), sep=r"\s+", header=None, index_col=None,
                         names=[x_label, y1_label, y2_label])
    else:
        df = pd.read_csv(io.StringIO(data_str), sep=r"\s+", header=None, index_col=None,
                         names=[x_label, extra_label.replace("_", "-")+"_"+y1_label, extra_label.replace("_", "-")+"_"+y2_label])
    #display(df)
    _df = df.iloc[:, [0, 1]].copy(deep=True)
    #display(_df)
    _df.columns = [_df.columns[0], _df.columns[1].replace("_hb", "")]
    return _df


time,hb_data=trj.xvg_reader(filename,indice)
read_xvg("L3_ch0_H2O_O6_hbnum.xvg", "H2O_O6")


intra_types = ["H3O_O5", "H2O_O6"]
inter_type = "H6O_O3"
layer2chains = {"L3": ["ch0"], 
            "L4": ["ch0", "ch1"], 
        "L5": ["ch0", "ch1", "ch2"], 
    "L6": ["ch0", "ch1", "ch2", "ch3"], 
        "L7": ["ch0", "ch1", "ch2"], 
            "L8": ["ch0", "ch1"], 
                "L9": ["ch0"]}

global_min = 10
global_max = -1

# f, ax = plt.subplots(len(layer2chains.keys()), figsize=(5,14))
# ax_dict = dict(zip(layer2chains.keys(), ax))
for layer in layer2chains.keys():
    layer_list = []
    for chain in layer2chains[layer]:
        df_list = []
        for intra_type in intra_types:
            df_list.append(read_xvg(layer + "_" + chain + "_" + intra_type + "_hbnum.xvg", extra_label=intra_type))
        df = df_list[0].merge(df_list[1], left_on='Time (ps)', right_on='Time (ps)')
        df = df.iloc[:, [1,2]]
        vals = pd.DataFrame([df[df.columns[0]].to_list() + df[df.columns[1]].to_list()]).T
        vals.columns = [chain]
        layer_list.append(vals)
        _intra_type = [df.columns[0]] * len(df) + [df.columns[1]] * len(df)
    _df = pd.concat(layer_list, axis=1)
    _df["Interchain Type"] = _intra_type
    chains = [x for x in _df.columns if x.replace("ch", "").isdigit()]
    val_col = []
    inter_col = []
    chain_col = []
    for chain in chains:
        val_col = val_col + _df[chain].to_list()
        inter_col = inter_col + _df["Interchain Type"].to_list()
        chain_col = chain_col + [chain] * len(_df)
    layer_df = pd.DataFrame([val_col, inter_col, chain_col]).T
    layer_df.columns = ["H Bonds", "Interchain Type", "Chain ID"]
    global_min = min([global_min, layer_df["H Bonds"].min()])
    global_max = max([global_max, layer_df["H Bonds"].max()])
    fig, ax = plt.subplots(figsize=(6*len(layer2chains[layer]),3))
    sns.violinplot(data=layer_df, y='H Bonds', x="Chain ID", hue='Interchain Type', palette=["teal", "springgreen"],
                   split=True, inner="quart", linewidth=0.5, common_norm=False, bw_adjust=4, density_norm="area", ax=ax)
                   #ax=ax_dict[layer])
    delta = global_max - global_min
    # ax_dict[layer].get_legend().remove()
    # ax_dict[layer].set_ylabel("")
    # ax_dict[layer].set_ylim([global_min - 0.2 * delta, global_max + 0.2 * delta])
    ax.legend(loc=4)
    ax.set_ylabel("")
    ax.set_xlabel("")
    frac = 0.5
    ax.set_ylim([global_min - frac * delta, global_max + frac * delta])
    ax.text(-0.8, 8, layer.replace("L", "Layer "))
    fig.savefig(os.path.join("violin", layer + "_intra.png"), dpi=300, transparent=True, bbox_inches="tight")

#ax_dict[layer].legend()


intra_types = ["H3O_O5", "H2O_O6"]
inter_type = "H6O_O3"
layer2chains = {"L3": ["ch0"], 
            "L4": ["ch0", "ch1"], 
        "L5": ["ch0", "ch1", "ch2"], 
    "L6": ["ch0", "ch1", "ch2", "ch3"], 
        "L7": ["ch0", "ch1", "ch2"], 
            "L8": ["ch0", "ch1"], 
                "L9": ["ch0"]}

global_min = 10
global_max = -1

# f, ax = plt.subplots(len(layer2chains.keys()), figsize=(5,14))
# ax_dict = dict(zip(layer2chains.keys(), ax))
for layer in layer2chains.keys():
    layer_list = []
    for chain in layer2chains[layer]:
        df_list = []
        for intra_type in intra_types:
            df_list.append(read_xvg(layer + "_" + chain + "_" + intra_type + "_hbnum.xvg", extra_label=intra_type))
        df = df_list[0].merge(df_list[1], left_on='Time (ps)', right_on='Time (ps)')
        df = df.iloc[:, [1,2]]
        vals = pd.DataFrame([df[df.columns[0]].to_list() + df[df.columns[1]].to_list()]).T
        vals.columns = [chain]
        layer_list.append(vals)
        _intra_type = [df.columns[0]] * len(df) + [df.columns[1]] * len(df)
    _df = pd.concat(layer_list, axis=1)
    _df["Interchain Type"] = _intra_type
    chains = [x for x in _df.columns if x.replace("ch", "").isdigit()]
    val_col = []
    inter_col = []
    chain_col = []
    for chain in chains:
        val_col = val_col + _df[chain].to_list()
        inter_col = inter_col + _df["Interchain Type"].to_list()
        chain_col = chain_col + [chain] * len(_df)
    layer_df = pd.DataFrame([val_col, inter_col, chain_col]).T
    layer_df.columns = ["H Bonds", "Interchain Type", "Chain ID"]
    global_min = min([global_min, layer_df["H Bonds"].min()])
    global_max = max([global_max, layer_df["H Bonds"].max()])
    fig, ax = plt.subplots(figsize=(3*len(layer2chains[layer]),3))
    sns.boxplot(data=layer_df, y='H Bonds', x="Chain ID", hue='Interchain Type', palette=["teal", "springgreen"],
                linewidth=0.5, ax=ax)
                   #ax=ax_dict[layer])
    delta = global_max - global_min
    # ax_dict[layer].get_legend().remove()
    # ax_dict[layer].set_ylabel("")
    # ax_dict[layer].set_ylim([global_min - 0.2 * delta, global_max + 0.2 * delta])
    ax.legend(loc=4)
    ax.set_ylabel("")
    ax.set_xlabel("")
    frac = 0.5
    ax.set_ylim([global_min - frac * delta, global_max + frac * delta])
    ax.text(-0.8, 8, layer.replace("L", "Layer "))
    fig.savefig(os.path.join("box", layer + "_intra.png"), dpi=300, transparent=True, bbox_inches="tight")

#ax_dict[layer].legend()


layer_df["Interchain Type"].unique()


import io
import os
import pandas as pd
import seaborn as sns
import matplotlib.pyplot as plt

inter_type = "H6O_O3"
layer2chains = {"L3": ["ch0"], 
            "L4": ["ch0", "ch1"], 
        "L5": ["ch0", "ch1", "ch2"], 
    "L6": ["ch0", "ch1", "ch2", "ch3"], 
        "L7": ["ch0", "ch1", "ch2"], 
            "L8": ["ch0", "ch1"], 
                "L9": ["ch0"]}

global_min = 10
global_max = -1

# f, ax = plt.subplots(len(layer2chains.keys()), figsize=(5,14))
# ax_dict = dict(zip(layer2chains.keys(), ax))
for layer in layer2chains.keys():
    if layer == "L3" or layer == "L9":
        continue
    layer_list = []
    for chain_i in range(0, len(layer2chains[layer])-1):
        chain = layer2chains[layer][chain_i]
        df_list = []
        df = read_xvg(layer + "_" + chain + "_" + inter_type + "_hbnum.xvg", extra_label=inter_type)
        vals = pd.DataFrame(df[df.columns[1]])
        vals.columns = [chain]
        layer_list.append(vals)
        _intra_type = [df.columns[1]] * len(df)
    _df = pd.concat(layer_list, axis=1)
    _df["Interchain Type"] = _intra_type
    chains = [x for x in _df.columns if x.replace("ch", "").isdigit()]
    val_col = []
    inter_col = []
    chain_col = []
    for chain in chains:
        val_col = val_col + _df[chain].to_list()
        inter_col = inter_col + _df["Interchain Type"].to_list()
        chain_col = chain_col + [chain] * len(_df)
    layer_df = pd.DataFrame([val_col, inter_col, chain_col]).T
    layer_df.columns = ["H Bonds", "Interchain Type", "Chain ID"]
    global_min = min([global_min, layer_df["H Bonds"].min()])
    global_max = max([global_max, layer_df["H Bonds"].max()])
    fig, ax = plt.subplots(figsize=(1.5*len(layer2chains[layer]),3))
    sns.boxplot(data=layer_df, y='H Bonds', x="Chain ID", hue='Interchain Type', palette=["springgreen"],
                linewidth=0.5, ax=ax)
                   #ax=ax_dict[layer])
    delta = global_max - global_min
    # ax_dict[layer].get_legend().remove()
    # ax_dict[layer].set_ylabel("")
    # ax_dict[layer].set_ylim([global_min - 0.2 * delta, global_max + 0.2 * delta])
    ax.legend(loc=4)
    ax.set_ylabel("")
    ax.set_xlabel("")
    frac = 0.5
    ax.set_ylim(-2, 13)
    #ax.set_ylim([global_min - frac * delta, global_max + frac * delta])
    ax.text(-0.8, 8, layer.replace("L", "Layer "))
    fig.savefig(os.path.join("inter-box", layer + "_intra.png"), dpi=300, transparent=True, bbox_inches="tight")

#ax_dict[layer].legend()


import io
import os
import pandas as pd
import seaborn as sns
import matplotlib.pyplot as plt

inter_type = "H6O_O3"
layer2chains = {"L3": ["ch0"], 
            "L4": ["ch0", "ch1"], 
        "L5": ["ch0", "ch1", "ch2"], 
    "L6": ["ch0", "ch1", "ch2", "ch3"], 
        "L7": ["ch0", "ch1", "ch2"], 
            "L8": ["ch0", "ch1"], 
                "L9": ["ch0"]}

global_min = 10
global_max = -1

# f, ax = plt.subplots(len(layer2chains.keys()), figsize=(5,14))
# ax_dict = dict(zip(layer2chains.keys(), ax))
fig, ax = plt.subplots(figsize=(6,6))
for layer in layer2chains.keys():
    if layer == "L3" or layer == "L9":
        continue
    layer_list = []
    for chain_i in range(0, len(layer2chains[layer])-1):
        chain = layer2chains[layer][chain_i]
        df_list = []
        df = read_xvg(layer + "_" + chain + "_" + inter_type + "_hbnum.xvg", extra_label=inter_type)
        vals = pd.DataFrame(df[df.columns[1]])
        vals.columns = [chain]
        # layer_list.append(vals)
        layer_list = [vals]
        _intra_type = [df.columns[1]] * len(df)
        _df = pd.concat(layer_list, axis=1)
        _df["Interchain Type"] = _intra_type
        chains = [x for x in _df.columns if x.replace("ch", "").isdigit()]
        val_col = []
        inter_col = []
        chain_col = []
        for chain in chains:
            val_col = val_col + _df[chain].to_list()
            inter_col = inter_col + _df["Interchain Type"].to_list()
            chain_col = chain_col + [chain] * len(_df)
        layer_df = pd.DataFrame([val_col, inter_col, chain_col]).T
        layer_df.columns = ["H Bonds", "Interchain Type", "Chain ID"]
        # global_min = min([global_min, layer_df["H Bonds"].min()])
        # global_max = max([global_max, layer_df["H Bonds"].max()])
        
        sns.violinplot(data=layer_df, y='H Bonds', x="Chain ID", hue='Interchain Type', 
                       linewidth=2, ax=ax,  common_norm=True, bw_adjust=3, scale='count')
                       #ax=ax_dict[layer])
        delta = global_max - global_min
        # ax_dict[layer].get_legend().remove()
        # ax_dict[layer].set_ylabel("")
        # ax_dict[layer].set_ylim([global_min - 0.2 * delta, global_max + 0.2 * delta])
        ax.legend(loc=4)
        ax.set_ylabel("")
        ax.set_xlabel("")
        frac = 0.5
        ax.set_ylim(-2, 13)
        #ax.set_ylim([global_min - frac * delta, global_max + frac * delta])
        ax.text(-0.8, 8, layer.replace("L", "Layer "))
        #fig.savefig(os.path.join("inter-violin", layer + "_" + str(chain) + "_intra.png"), dpi=300, transparent=True, bbox_inches="tight")
fig.savefig(os.path.join("inter-violin-inter-all.png"), dpi=300, transparent=True, bbox_inches="tight")

#ax_dict[layer].legend()



